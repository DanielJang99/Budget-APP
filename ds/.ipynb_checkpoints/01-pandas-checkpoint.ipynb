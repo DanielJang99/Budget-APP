{
 "cells": [
  {
   "cell_type": "markdown",
   "metadata": {},
   "source": [
    " 이 칸을 셀(cell)이라고 합니다. "
   ]
  },
  {
   "cell_type": "code",
   "execution_count": 5,
   "metadata": {},
   "outputs": [],
   "source": [
    "import pandas as pd "
   ]
  },
  {
   "cell_type": "markdown",
   "metadata": {},
   "source": [
    "## 데이터 구조와 타입 "
   ]
  },
  {
   "cell_type": "code",
   "execution_count": 1,
   "metadata": {},
   "outputs": [
    {
     "data": {
      "text/plain": [
       "[1, 3, 5]"
      ]
     },
     "execution_count": 1,
     "metadata": {},
     "output_type": "execute_result"
    }
   ],
   "source": [
    "odds = [1,3,5]\n",
    "\n",
    "odds"
   ]
  },
  {
   "cell_type": "code",
   "execution_count": 2,
   "metadata": {},
   "outputs": [
    {
     "data": {
      "text/plain": [
       "list"
      ]
     },
     "execution_count": 2,
     "metadata": {},
     "output_type": "execute_result"
    }
   ],
   "source": [
    "type(odds)"
   ]
  },
  {
   "cell_type": "code",
   "execution_count": 6,
   "metadata": {},
   "outputs": [
    {
     "data": {
      "text/plain": [
       "0    1\n",
       "1    3\n",
       "2    5\n",
       "dtype: int64"
      ]
     },
     "execution_count": 6,
     "metadata": {},
     "output_type": "execute_result"
    }
   ],
   "source": [
    "#판다스에는 Series(한줄), dataframe(두 줄 이상)\n",
    "pd_odds = pd.Series(odds)\n",
    "\n",
    "pd_odds"
   ]
  },
  {
   "cell_type": "code",
   "execution_count": 7,
   "metadata": {
    "scrolled": true
   },
   "outputs": [
    {
     "data": {
      "text/plain": [
       "pandas.core.series.Series"
      ]
     },
     "execution_count": 7,
     "metadata": {},
     "output_type": "execute_result"
    }
   ],
   "source": [
    "type(pd_odds)"
   ]
  },
  {
   "cell_type": "code",
   "execution_count": 8,
   "metadata": {},
   "outputs": [
    {
     "data": {
      "text/plain": [
       "3.0"
      ]
     },
     "execution_count": 8,
     "metadata": {},
     "output_type": "execute_result"
    }
   ],
   "source": [
    "pd_odds.mean()"
   ]
  },
  {
   "cell_type": "code",
   "execution_count": 9,
   "metadata": {},
   "outputs": [
    {
     "data": {
      "text/plain": [
       "[[1, 2, 3], [4, 5, 6], [7, 8, 9]]"
      ]
     },
     "execution_count": 9,
     "metadata": {},
     "output_type": "execute_result"
    }
   ],
   "source": [
    "numbers = [[1,2,3],[4,5,6],[7,8,9]]\n",
    "\n",
    "numbers"
   ]
  },
  {
   "cell_type": "code",
   "execution_count": 11,
   "metadata": {},
   "outputs": [
    {
     "data": {
      "text/html": [
       "<div>\n",
       "<style scoped>\n",
       "    .dataframe tbody tr th:only-of-type {\n",
       "        vertical-align: middle;\n",
       "    }\n",
       "\n",
       "    .dataframe tbody tr th {\n",
       "        vertical-align: top;\n",
       "    }\n",
       "\n",
       "    .dataframe thead th {\n",
       "        text-align: right;\n",
       "    }\n",
       "</style>\n",
       "<table border=\"1\" class=\"dataframe\">\n",
       "  <thead>\n",
       "    <tr style=\"text-align: right;\">\n",
       "      <th></th>\n",
       "      <th>0</th>\n",
       "      <th>1</th>\n",
       "      <th>2</th>\n",
       "    </tr>\n",
       "  </thead>\n",
       "  <tbody>\n",
       "    <tr>\n",
       "      <th>0</th>\n",
       "      <td>1</td>\n",
       "      <td>2</td>\n",
       "      <td>3</td>\n",
       "    </tr>\n",
       "    <tr>\n",
       "      <th>1</th>\n",
       "      <td>4</td>\n",
       "      <td>5</td>\n",
       "      <td>6</td>\n",
       "    </tr>\n",
       "    <tr>\n",
       "      <th>2</th>\n",
       "      <td>7</td>\n",
       "      <td>8</td>\n",
       "      <td>9</td>\n",
       "    </tr>\n",
       "  </tbody>\n",
       "</table>\n",
       "</div>"
      ],
      "text/plain": [
       "   0  1  2\n",
       "0  1  2  3\n",
       "1  4  5  6\n",
       "2  7  8  9"
      ]
     },
     "execution_count": 11,
     "metadata": {},
     "output_type": "execute_result"
    }
   ],
   "source": [
    "pd_numbers = pd.DataFrame(numbers)\n",
    "\n",
    "pd_numbers"
   ]
  },
  {
   "cell_type": "code",
   "execution_count": 12,
   "metadata": {},
   "outputs": [
    {
     "data": {
      "text/plain": [
       "pandas.core.frame.DataFrame"
      ]
     },
     "execution_count": 12,
     "metadata": {},
     "output_type": "execute_result"
    }
   ],
   "source": [
    "type(pd_numbers)"
   ]
  },
  {
   "cell_type": "code",
   "execution_count": 14,
   "metadata": {},
   "outputs": [
    {
     "data": {
      "text/plain": [
       "[['2020-05-22', 300, 'confirmed'],\n",
       " ['2020-05-23', 500, 'confirmed'],\n",
       " ['2020-05-24', 700, 'cancelled']]"
      ]
     },
     "execution_count": 14,
     "metadata": {},
     "output_type": "execute_result"
    }
   ],
   "source": [
    "data = [\n",
    "    [\"2020-05-22\", 300, 'confirmed'],\n",
    "    [\"2020-05-23\", 500, 'confirmed'],\n",
    "    [\"2020-05-24\", 700, 'cancelled']\n",
    "]\n",
    "\n",
    "data"
   ]
  },
  {
   "cell_type": "code",
   "execution_count": 18,
   "metadata": {
    "scrolled": true
   },
   "outputs": [
    {
     "data": {
      "text/html": [
       "<div>\n",
       "<style scoped>\n",
       "    .dataframe tbody tr th:only-of-type {\n",
       "        vertical-align: middle;\n",
       "    }\n",
       "\n",
       "    .dataframe tbody tr th {\n",
       "        vertical-align: top;\n",
       "    }\n",
       "\n",
       "    .dataframe thead th {\n",
       "        text-align: right;\n",
       "    }\n",
       "</style>\n",
       "<table border=\"1\" class=\"dataframe\">\n",
       "  <thead>\n",
       "    <tr style=\"text-align: right;\">\n",
       "      <th></th>\n",
       "      <th>date</th>\n",
       "      <th>price</th>\n",
       "      <th>result</th>\n",
       "    </tr>\n",
       "  </thead>\n",
       "  <tbody>\n",
       "    <tr>\n",
       "      <th>3</th>\n",
       "      <td>2020-05-22</td>\n",
       "      <td>300</td>\n",
       "      <td>confirmed</td>\n",
       "    </tr>\n",
       "    <tr>\n",
       "      <th>5</th>\n",
       "      <td>2020-05-23</td>\n",
       "      <td>500</td>\n",
       "      <td>confirmed</td>\n",
       "    </tr>\n",
       "    <tr>\n",
       "      <th>7</th>\n",
       "      <td>2020-05-24</td>\n",
       "      <td>700</td>\n",
       "      <td>cancelled</td>\n",
       "    </tr>\n",
       "  </tbody>\n",
       "</table>\n",
       "</div>"
      ],
      "text/plain": [
       "         date  price     result\n",
       "3  2020-05-22    300  confirmed\n",
       "5  2020-05-23    500  confirmed\n",
       "7  2020-05-24    700  cancelled"
      ]
     },
     "execution_count": 18,
     "metadata": {},
     "output_type": "execute_result"
    }
   ],
   "source": [
    "cols = ['date','price','result']\n",
    "idx = [3,5,7]\n",
    "\n",
    "pd_data = pd.DataFrame(data, columns=cols, index=idx)\n",
    "\n",
    "pd_data"
   ]
  },
  {
   "cell_type": "markdown",
   "metadata": {},
   "source": [
    "## 데이터 불러오기"
   ]
  },
  {
   "cell_type": "code",
   "execution_count": 22,
   "metadata": {},
   "outputs": [
    {
     "name": "stdout",
     "output_type": "stream",
     "text": [
      "(8, 3)\n"
     ]
    },
    {
     "data": {
      "text/html": [
       "<div>\n",
       "<style scoped>\n",
       "    .dataframe tbody tr th:only-of-type {\n",
       "        vertical-align: middle;\n",
       "    }\n",
       "\n",
       "    .dataframe tbody tr th {\n",
       "        vertical-align: top;\n",
       "    }\n",
       "\n",
       "    .dataframe thead th {\n",
       "        text-align: right;\n",
       "    }\n",
       "</style>\n",
       "<table border=\"1\" class=\"dataframe\">\n",
       "  <thead>\n",
       "    <tr style=\"text-align: right;\">\n",
       "      <th></th>\n",
       "      <th>date</th>\n",
       "      <th>price</th>\n",
       "      <th>state</th>\n",
       "    </tr>\n",
       "    <tr>\n",
       "      <th>Name</th>\n",
       "      <th></th>\n",
       "      <th></th>\n",
       "      <th></th>\n",
       "    </tr>\n",
       "  </thead>\n",
       "  <tbody>\n",
       "    <tr>\n",
       "      <th>Kang</th>\n",
       "      <td>2017-01-01</td>\n",
       "      <td>500</td>\n",
       "      <td>confirmed</td>\n",
       "    </tr>\n",
       "    <tr>\n",
       "      <th>Kim</th>\n",
       "      <td>2017-01-03</td>\n",
       "      <td>700</td>\n",
       "      <td>confirmed</td>\n",
       "    </tr>\n",
       "    <tr>\n",
       "      <th>Choi</th>\n",
       "      <td>2017-01-03</td>\n",
       "      <td>900</td>\n",
       "      <td>confirmed</td>\n",
       "    </tr>\n",
       "    <tr>\n",
       "      <th>Park</th>\n",
       "      <td>2017-01-05</td>\n",
       "      <td>800</td>\n",
       "      <td>confirmed</td>\n",
       "    </tr>\n",
       "    <tr>\n",
       "      <th>Lee</th>\n",
       "      <td>2017-01-07</td>\n",
       "      <td>500</td>\n",
       "      <td>canceled</td>\n",
       "    </tr>\n",
       "  </tbody>\n",
       "</table>\n",
       "</div>"
      ],
      "text/plain": [
       "            date  price      state\n",
       "Name                              \n",
       "Kang  2017-01-01    500  confirmed\n",
       "Kim   2017-01-03    700  confirmed\n",
       "Choi  2017-01-03    900  confirmed\n",
       "Park  2017-01-05    800  confirmed\n",
       "Lee   2017-01-07    500   canceled"
      ]
     },
     "execution_count": 22,
     "metadata": {},
     "output_type": "execute_result"
    }
   ],
   "source": [
    "url = 'http://bit.ly/dsa-transaction'\n",
    "\n",
    "data = pd.read_csv(\"transaction.csv\", index_col='Name')\n",
    "\n",
    "print(data.shape) \n",
    "# jupyter는 마지막만 띄우니까 중간중간에 print를 해줘야됨 \n",
    "data.head()"
   ]
  },
  {
   "cell_type": "code",
   "execution_count": 23,
   "metadata": {},
   "outputs": [
    {
     "data": {
      "text/html": [
       "<div>\n",
       "<style scoped>\n",
       "    .dataframe tbody tr th:only-of-type {\n",
       "        vertical-align: middle;\n",
       "    }\n",
       "\n",
       "    .dataframe tbody tr th {\n",
       "        vertical-align: top;\n",
       "    }\n",
       "\n",
       "    .dataframe thead th {\n",
       "        text-align: right;\n",
       "    }\n",
       "</style>\n",
       "<table border=\"1\" class=\"dataframe\">\n",
       "  <thead>\n",
       "    <tr style=\"text-align: right;\">\n",
       "      <th></th>\n",
       "      <th>date</th>\n",
       "      <th>price</th>\n",
       "      <th>state</th>\n",
       "    </tr>\n",
       "    <tr>\n",
       "      <th>Name</th>\n",
       "      <th></th>\n",
       "      <th></th>\n",
       "      <th></th>\n",
       "    </tr>\n",
       "  </thead>\n",
       "  <tbody>\n",
       "    <tr>\n",
       "      <th>Park</th>\n",
       "      <td>2017-01-05</td>\n",
       "      <td>800</td>\n",
       "      <td>confirmed</td>\n",
       "    </tr>\n",
       "    <tr>\n",
       "      <th>Lee</th>\n",
       "      <td>2017-01-07</td>\n",
       "      <td>500</td>\n",
       "      <td>canceled</td>\n",
       "    </tr>\n",
       "    <tr>\n",
       "      <th>Yoon</th>\n",
       "      <td>2017-01-09</td>\n",
       "      <td>700</td>\n",
       "      <td>confirmed</td>\n",
       "    </tr>\n",
       "    <tr>\n",
       "      <th>Jang</th>\n",
       "      <td>2017-01-09</td>\n",
       "      <td>600</td>\n",
       "      <td>canceled</td>\n",
       "    </tr>\n",
       "    <tr>\n",
       "      <th>Ko</th>\n",
       "      <td>2017-01-10</td>\n",
       "      <td>200</td>\n",
       "      <td>canceled</td>\n",
       "    </tr>\n",
       "  </tbody>\n",
       "</table>\n",
       "</div>"
      ],
      "text/plain": [
       "            date  price      state\n",
       "Name                              \n",
       "Park  2017-01-05    800  confirmed\n",
       "Lee   2017-01-07    500   canceled\n",
       "Yoon  2017-01-09    700  confirmed\n",
       "Jang  2017-01-09    600   canceled\n",
       "Ko    2017-01-10    200   canceled"
      ]
     },
     "execution_count": 23,
     "metadata": {},
     "output_type": "execute_result"
    }
   ],
   "source": [
    "data.tail()"
   ]
  },
  {
   "cell_type": "code",
   "execution_count": 25,
   "metadata": {},
   "outputs": [
    {
     "data": {
      "text/html": [
       "<div>\n",
       "<style scoped>\n",
       "    .dataframe tbody tr th:only-of-type {\n",
       "        vertical-align: middle;\n",
       "    }\n",
       "\n",
       "    .dataframe tbody tr th {\n",
       "        vertical-align: top;\n",
       "    }\n",
       "\n",
       "    .dataframe thead th {\n",
       "        text-align: right;\n",
       "    }\n",
       "</style>\n",
       "<table border=\"1\" class=\"dataframe\">\n",
       "  <thead>\n",
       "    <tr style=\"text-align: right;\">\n",
       "      <th></th>\n",
       "      <th>date</th>\n",
       "      <th>price</th>\n",
       "      <th>state</th>\n",
       "    </tr>\n",
       "    <tr>\n",
       "      <th>Name</th>\n",
       "      <th></th>\n",
       "      <th></th>\n",
       "      <th></th>\n",
       "    </tr>\n",
       "  </thead>\n",
       "  <tbody>\n",
       "    <tr>\n",
       "      <th>Kim</th>\n",
       "      <td>2017-01-03</td>\n",
       "      <td>700</td>\n",
       "      <td>confirmed</td>\n",
       "    </tr>\n",
       "    <tr>\n",
       "      <th>Choi</th>\n",
       "      <td>2017-01-03</td>\n",
       "      <td>900</td>\n",
       "      <td>confirmed</td>\n",
       "    </tr>\n",
       "  </tbody>\n",
       "</table>\n",
       "</div>"
      ],
      "text/plain": [
       "            date  price      state\n",
       "Name                              \n",
       "Kim   2017-01-03    700  confirmed\n",
       "Choi  2017-01-03    900  confirmed"
      ]
     },
     "execution_count": 25,
     "metadata": {},
     "output_type": "execute_result"
    }
   ],
   "source": [
    "data.tail(7).head(2)"
   ]
  },
  {
   "cell_type": "code",
   "execution_count": 26,
   "metadata": {},
   "outputs": [
    {
     "data": {
      "text/plain": [
       "Index(['Kang', 'Kim', 'Choi', 'Park', 'Lee', 'Yoon', 'Jang', 'Ko'], dtype='object', name='Name')"
      ]
     },
     "execution_count": 26,
     "metadata": {},
     "output_type": "execute_result"
    }
   ],
   "source": [
    "data.index"
   ]
  },
  {
   "cell_type": "code",
   "execution_count": 27,
   "metadata": {},
   "outputs": [
    {
     "data": {
      "text/plain": [
       "Index(['date', 'price', 'state'], dtype='object')"
      ]
     },
     "execution_count": 27,
     "metadata": {},
     "output_type": "execute_result"
    }
   ],
   "source": [
    "data.columns"
   ]
  },
  {
   "cell_type": "code",
   "execution_count": 28,
   "metadata": {},
   "outputs": [
    {
     "data": {
      "text/html": [
       "<div>\n",
       "<style scoped>\n",
       "    .dataframe tbody tr th:only-of-type {\n",
       "        vertical-align: middle;\n",
       "    }\n",
       "\n",
       "    .dataframe tbody tr th {\n",
       "        vertical-align: top;\n",
       "    }\n",
       "\n",
       "    .dataframe thead th {\n",
       "        text-align: right;\n",
       "    }\n",
       "</style>\n",
       "<table border=\"1\" class=\"dataframe\">\n",
       "  <thead>\n",
       "    <tr style=\"text-align: right;\">\n",
       "      <th></th>\n",
       "      <th>date</th>\n",
       "      <th>amount</th>\n",
       "      <th>result</th>\n",
       "    </tr>\n",
       "    <tr>\n",
       "      <th>Name</th>\n",
       "      <th></th>\n",
       "      <th></th>\n",
       "      <th></th>\n",
       "    </tr>\n",
       "  </thead>\n",
       "  <tbody>\n",
       "    <tr>\n",
       "      <th>Kang</th>\n",
       "      <td>2017-01-01</td>\n",
       "      <td>500</td>\n",
       "      <td>confirmed</td>\n",
       "    </tr>\n",
       "    <tr>\n",
       "      <th>Kim</th>\n",
       "      <td>2017-01-03</td>\n",
       "      <td>700</td>\n",
       "      <td>confirmed</td>\n",
       "    </tr>\n",
       "    <tr>\n",
       "      <th>Choi</th>\n",
       "      <td>2017-01-03</td>\n",
       "      <td>900</td>\n",
       "      <td>confirmed</td>\n",
       "    </tr>\n",
       "    <tr>\n",
       "      <th>Park</th>\n",
       "      <td>2017-01-05</td>\n",
       "      <td>800</td>\n",
       "      <td>confirmed</td>\n",
       "    </tr>\n",
       "    <tr>\n",
       "      <th>Lee</th>\n",
       "      <td>2017-01-07</td>\n",
       "      <td>500</td>\n",
       "      <td>canceled</td>\n",
       "    </tr>\n",
       "    <tr>\n",
       "      <th>Yoon</th>\n",
       "      <td>2017-01-09</td>\n",
       "      <td>700</td>\n",
       "      <td>confirmed</td>\n",
       "    </tr>\n",
       "    <tr>\n",
       "      <th>Jang</th>\n",
       "      <td>2017-01-09</td>\n",
       "      <td>600</td>\n",
       "      <td>canceled</td>\n",
       "    </tr>\n",
       "    <tr>\n",
       "      <th>Ko</th>\n",
       "      <td>2017-01-10</td>\n",
       "      <td>200</td>\n",
       "      <td>canceled</td>\n",
       "    </tr>\n",
       "  </tbody>\n",
       "</table>\n",
       "</div>"
      ],
      "text/plain": [
       "            date  amount     result\n",
       "Name                               \n",
       "Kang  2017-01-01     500  confirmed\n",
       "Kim   2017-01-03     700  confirmed\n",
       "Choi  2017-01-03     900  confirmed\n",
       "Park  2017-01-05     800  confirmed\n",
       "Lee   2017-01-07     500   canceled\n",
       "Yoon  2017-01-09     700  confirmed\n",
       "Jang  2017-01-09     600   canceled\n",
       "Ko    2017-01-10     200   canceled"
      ]
     },
     "execution_count": 28,
     "metadata": {},
     "output_type": "execute_result"
    }
   ],
   "source": [
    "data.columns = ['date','amount','result']\n",
    "\n",
    "data "
   ]
  },
  {
   "cell_type": "code",
   "execution_count": 29,
   "metadata": {},
   "outputs": [
    {
     "data": {
      "text/plain": [
       "array([['2017-01-01', 500, 'confirmed'],\n",
       "       ['2017-01-03', 700, 'confirmed'],\n",
       "       ['2017-01-03', 900, 'confirmed'],\n",
       "       ['2017-01-05', 800, 'confirmed'],\n",
       "       ['2017-01-07', 500, 'canceled'],\n",
       "       ['2017-01-09', 700, 'confirmed'],\n",
       "       ['2017-01-09', 600, 'canceled'],\n",
       "       ['2017-01-10', 200, 'canceled']], dtype=object)"
      ]
     },
     "execution_count": 29,
     "metadata": {},
     "output_type": "execute_result"
    }
   ],
   "source": [
    "data.values"
   ]
  },
  {
   "cell_type": "markdown",
   "metadata": {},
   "source": [
    "## 검색하기 \n",
    "\n",
    "열(columns) 검색 "
   ]
  },
  {
   "cell_type": "code",
   "execution_count": 30,
   "metadata": {},
   "outputs": [
    {
     "data": {
      "text/plain": [
       "Name\n",
       "Kang    2017-01-01\n",
       "Kim     2017-01-03\n",
       "Choi    2017-01-03\n",
       "Park    2017-01-05\n",
       "Lee     2017-01-07\n",
       "Yoon    2017-01-09\n",
       "Jang    2017-01-09\n",
       "Ko      2017-01-10\n",
       "Name: date, dtype: object"
      ]
     },
     "execution_count": 30,
     "metadata": {},
     "output_type": "execute_result"
    }
   ],
   "source": [
    "data['date']"
   ]
  },
  {
   "cell_type": "code",
   "execution_count": 33,
   "metadata": {},
   "outputs": [
    {
     "data": {
      "text/html": [
       "<div>\n",
       "<style scoped>\n",
       "    .dataframe tbody tr th:only-of-type {\n",
       "        vertical-align: middle;\n",
       "    }\n",
       "\n",
       "    .dataframe tbody tr th {\n",
       "        vertical-align: top;\n",
       "    }\n",
       "\n",
       "    .dataframe thead th {\n",
       "        text-align: right;\n",
       "    }\n",
       "</style>\n",
       "<table border=\"1\" class=\"dataframe\">\n",
       "  <thead>\n",
       "    <tr style=\"text-align: right;\">\n",
       "      <th></th>\n",
       "      <th>date</th>\n",
       "      <th>result</th>\n",
       "    </tr>\n",
       "    <tr>\n",
       "      <th>Name</th>\n",
       "      <th></th>\n",
       "      <th></th>\n",
       "    </tr>\n",
       "  </thead>\n",
       "  <tbody>\n",
       "    <tr>\n",
       "      <th>Kang</th>\n",
       "      <td>2017-01-01</td>\n",
       "      <td>confirmed</td>\n",
       "    </tr>\n",
       "    <tr>\n",
       "      <th>Kim</th>\n",
       "      <td>2017-01-03</td>\n",
       "      <td>confirmed</td>\n",
       "    </tr>\n",
       "    <tr>\n",
       "      <th>Choi</th>\n",
       "      <td>2017-01-03</td>\n",
       "      <td>confirmed</td>\n",
       "    </tr>\n",
       "    <tr>\n",
       "      <th>Park</th>\n",
       "      <td>2017-01-05</td>\n",
       "      <td>confirmed</td>\n",
       "    </tr>\n",
       "    <tr>\n",
       "      <th>Lee</th>\n",
       "      <td>2017-01-07</td>\n",
       "      <td>canceled</td>\n",
       "    </tr>\n",
       "    <tr>\n",
       "      <th>Yoon</th>\n",
       "      <td>2017-01-09</td>\n",
       "      <td>confirmed</td>\n",
       "    </tr>\n",
       "    <tr>\n",
       "      <th>Jang</th>\n",
       "      <td>2017-01-09</td>\n",
       "      <td>canceled</td>\n",
       "    </tr>\n",
       "    <tr>\n",
       "      <th>Ko</th>\n",
       "      <td>2017-01-10</td>\n",
       "      <td>canceled</td>\n",
       "    </tr>\n",
       "  </tbody>\n",
       "</table>\n",
       "</div>"
      ],
      "text/plain": [
       "            date     result\n",
       "Name                       \n",
       "Kang  2017-01-01  confirmed\n",
       "Kim   2017-01-03  confirmed\n",
       "Choi  2017-01-03  confirmed\n",
       "Park  2017-01-05  confirmed\n",
       "Lee   2017-01-07   canceled\n",
       "Yoon  2017-01-09  confirmed\n",
       "Jang  2017-01-09   canceled\n",
       "Ko    2017-01-10   canceled"
      ]
     },
     "execution_count": 33,
     "metadata": {},
     "output_type": "execute_result"
    }
   ],
   "source": [
    "data[['date','result']]\n",
    "cols = ['date','result']\n",
    "\n",
    "data[cols]"
   ]
  },
  {
   "cell_type": "markdown",
   "metadata": {},
   "source": [
    "### 행(rows) 검색 "
   ]
  },
  {
   "cell_type": "code",
   "execution_count": 35,
   "metadata": {},
   "outputs": [
    {
     "data": {
      "text/plain": [
       "date      2017-01-01\n",
       "amount           500\n",
       "result     confirmed\n",
       "Name: Kang, dtype: object"
      ]
     },
     "execution_count": 35,
     "metadata": {},
     "output_type": "execute_result"
    }
   ],
   "source": [
    "# loc = locate \n",
    "data.loc['Kang']"
   ]
  },
  {
   "cell_type": "code",
   "execution_count": 37,
   "metadata": {},
   "outputs": [
    {
     "data": {
      "text/html": [
       "<div>\n",
       "<style scoped>\n",
       "    .dataframe tbody tr th:only-of-type {\n",
       "        vertical-align: middle;\n",
       "    }\n",
       "\n",
       "    .dataframe tbody tr th {\n",
       "        vertical-align: top;\n",
       "    }\n",
       "\n",
       "    .dataframe thead th {\n",
       "        text-align: right;\n",
       "    }\n",
       "</style>\n",
       "<table border=\"1\" class=\"dataframe\">\n",
       "  <thead>\n",
       "    <tr style=\"text-align: right;\">\n",
       "      <th></th>\n",
       "      <th>date</th>\n",
       "      <th>amount</th>\n",
       "      <th>result</th>\n",
       "    </tr>\n",
       "    <tr>\n",
       "      <th>Name</th>\n",
       "      <th></th>\n",
       "      <th></th>\n",
       "      <th></th>\n",
       "    </tr>\n",
       "  </thead>\n",
       "  <tbody>\n",
       "    <tr>\n",
       "      <th>Kang</th>\n",
       "      <td>2017-01-01</td>\n",
       "      <td>500</td>\n",
       "      <td>confirmed</td>\n",
       "    </tr>\n",
       "    <tr>\n",
       "      <th>Kim</th>\n",
       "      <td>2017-01-03</td>\n",
       "      <td>700</td>\n",
       "      <td>confirmed</td>\n",
       "    </tr>\n",
       "  </tbody>\n",
       "</table>\n",
       "</div>"
      ],
      "text/plain": [
       "            date  amount     result\n",
       "Name                               \n",
       "Kang  2017-01-01     500  confirmed\n",
       "Kim   2017-01-03     700  confirmed"
      ]
     },
     "execution_count": 37,
     "metadata": {},
     "output_type": "execute_result"
    }
   ],
   "source": [
    "idx = ['Kang','Kim']\n",
    "\n",
    "data.loc[idx]"
   ]
  },
  {
   "cell_type": "markdown",
   "metadata": {},
   "source": [
    "## 행열 동시검색 "
   ]
  },
  {
   "cell_type": "code",
   "execution_count": 38,
   "metadata": {},
   "outputs": [
    {
     "data": {
      "text/plain": [
       "'confirmed'"
      ]
     },
     "execution_count": 38,
     "metadata": {},
     "output_type": "execute_result"
    }
   ],
   "source": [
    "data.loc[\"Kang\",'result']"
   ]
  },
  {
   "cell_type": "code",
   "execution_count": 45,
   "metadata": {},
   "outputs": [
    {
     "data": {
      "text/html": [
       "<div>\n",
       "<style scoped>\n",
       "    .dataframe tbody tr th:only-of-type {\n",
       "        vertical-align: middle;\n",
       "    }\n",
       "\n",
       "    .dataframe tbody tr th {\n",
       "        vertical-align: top;\n",
       "    }\n",
       "\n",
       "    .dataframe thead th {\n",
       "        text-align: right;\n",
       "    }\n",
       "</style>\n",
       "<table border=\"1\" class=\"dataframe\">\n",
       "  <thead>\n",
       "    <tr style=\"text-align: right;\">\n",
       "      <th></th>\n",
       "      <th>date</th>\n",
       "      <th>result</th>\n",
       "    </tr>\n",
       "    <tr>\n",
       "      <th>Name</th>\n",
       "      <th></th>\n",
       "      <th></th>\n",
       "    </tr>\n",
       "  </thead>\n",
       "  <tbody>\n",
       "    <tr>\n",
       "      <th>Kang</th>\n",
       "      <td>2017-01-01</td>\n",
       "      <td>confirmed</td>\n",
       "    </tr>\n",
       "    <tr>\n",
       "      <th>Kim</th>\n",
       "      <td>2017-01-03</td>\n",
       "      <td>confirmed</td>\n",
       "    </tr>\n",
       "  </tbody>\n",
       "</table>\n",
       "</div>"
      ],
      "text/plain": [
       "            date     result\n",
       "Name                       \n",
       "Kang  2017-01-01  confirmed\n",
       "Kim   2017-01-03  confirmed"
      ]
     },
     "execution_count": 45,
     "metadata": {},
     "output_type": "execute_result"
    }
   ],
   "source": [
    "idx = ['Kang','Kim']\n",
    "cols = ['date','result']\n",
    "\n",
    "data.loc[idx,cols]"
   ]
  },
  {
   "cell_type": "markdown",
   "metadata": {},
   "source": [
    "## 기본기능"
   ]
  },
  {
   "cell_type": "code",
   "execution_count": 39,
   "metadata": {},
   "outputs": [
    {
     "data": {
      "text/plain": [
       "200"
      ]
     },
     "execution_count": 39,
     "metadata": {},
     "output_type": "execute_result"
    }
   ],
   "source": [
    " data['amount'].min()"
   ]
  },
  {
   "cell_type": "code",
   "execution_count": 40,
   "metadata": {},
   "outputs": [
    {
     "data": {
      "text/plain": [
       "4900"
      ]
     },
     "execution_count": 40,
     "metadata": {},
     "output_type": "execute_result"
    }
   ],
   "source": [
    "data['amount'].sum()"
   ]
  },
  {
   "cell_type": "code",
   "execution_count": 41,
   "metadata": {},
   "outputs": [
    {
     "data": {
      "text/plain": [
       "Name\n",
       "Kang     500\n",
       "Kim     1200\n",
       "Choi    2100\n",
       "Park    2900\n",
       "Lee     3400\n",
       "Yoon    4100\n",
       "Jang    4700\n",
       "Ko      4900\n",
       "Name: amount, dtype: int64"
      ]
     },
     "execution_count": 41,
     "metadata": {},
     "output_type": "execute_result"
    }
   ],
   "source": [
    "data['amount'].cumsum()"
   ]
  },
  {
   "cell_type": "code",
   "execution_count": 42,
   "metadata": {},
   "outputs": [
    {
     "data": {
      "text/plain": [
       "216.71244937540095"
      ]
     },
     "execution_count": 42,
     "metadata": {},
     "output_type": "execute_result"
    }
   ],
   "source": [
    "data['amount'].std()"
   ]
  },
  {
   "cell_type": "code",
   "execution_count": 43,
   "metadata": {},
   "outputs": [
    {
     "name": "stdout",
     "output_type": "stream",
     "text": [
      "<class 'pandas.core.frame.DataFrame'>\n",
      "Index: 8 entries, Kang to Ko\n",
      "Data columns (total 3 columns):\n",
      " #   Column  Non-Null Count  Dtype \n",
      "---  ------  --------------  ----- \n",
      " 0   date    8 non-null      object\n",
      " 1   amount  8 non-null      int64 \n",
      " 2   result  8 non-null      object\n",
      "dtypes: int64(1), object(2)\n",
      "memory usage: 576.0+ bytes\n"
     ]
    }
   ],
   "source": [
    "data.info()"
   ]
  },
  {
   "cell_type": "code",
   "execution_count": 49,
   "metadata": {},
   "outputs": [
    {
     "data": {
      "text/html": [
       "<div>\n",
       "<style scoped>\n",
       "    .dataframe tbody tr th:only-of-type {\n",
       "        vertical-align: middle;\n",
       "    }\n",
       "\n",
       "    .dataframe tbody tr th {\n",
       "        vertical-align: top;\n",
       "    }\n",
       "\n",
       "    .dataframe thead th {\n",
       "        text-align: right;\n",
       "    }\n",
       "</style>\n",
       "<table border=\"1\" class=\"dataframe\">\n",
       "  <thead>\n",
       "    <tr style=\"text-align: right;\">\n",
       "      <th></th>\n",
       "      <th>amount</th>\n",
       "    </tr>\n",
       "  </thead>\n",
       "  <tbody>\n",
       "    <tr>\n",
       "      <th>count</th>\n",
       "      <td>8.000000</td>\n",
       "    </tr>\n",
       "    <tr>\n",
       "      <th>mean</th>\n",
       "      <td>612.500000</td>\n",
       "    </tr>\n",
       "    <tr>\n",
       "      <th>std</th>\n",
       "      <td>216.712449</td>\n",
       "    </tr>\n",
       "    <tr>\n",
       "      <th>min</th>\n",
       "      <td>200.000000</td>\n",
       "    </tr>\n",
       "    <tr>\n",
       "      <th>25%</th>\n",
       "      <td>500.000000</td>\n",
       "    </tr>\n",
       "    <tr>\n",
       "      <th>50%</th>\n",
       "      <td>650.000000</td>\n",
       "    </tr>\n",
       "    <tr>\n",
       "      <th>75%</th>\n",
       "      <td>725.000000</td>\n",
       "    </tr>\n",
       "    <tr>\n",
       "      <th>max</th>\n",
       "      <td>900.000000</td>\n",
       "    </tr>\n",
       "  </tbody>\n",
       "</table>\n",
       "</div>"
      ],
      "text/plain": [
       "           amount\n",
       "count    8.000000\n",
       "mean   612.500000\n",
       "std    216.712449\n",
       "min    200.000000\n",
       "25%    500.000000\n",
       "50%    650.000000\n",
       "75%    725.000000\n",
       "max    900.000000"
      ]
     },
     "execution_count": 49,
     "metadata": {},
     "output_type": "execute_result"
    }
   ],
   "source": [
    "data.describe()"
   ]
  },
  {
   "cell_type": "code",
   "execution_count": 47,
   "metadata": {},
   "outputs": [
    {
     "data": {
      "text/plain": [
       "array(['confirmed', 'canceled'], dtype=object)"
      ]
     },
     "execution_count": 47,
     "metadata": {},
     "output_type": "execute_result"
    }
   ],
   "source": [
    "data['result'].unique()"
   ]
  },
  {
   "cell_type": "code",
   "execution_count": 50,
   "metadata": {},
   "outputs": [
    {
     "data": {
      "text/plain": [
       "2"
      ]
     },
     "execution_count": 50,
     "metadata": {},
     "output_type": "execute_result"
    }
   ],
   "source": [
    "data['result'].nunique()"
   ]
  },
  {
   "cell_type": "code",
   "execution_count": 52,
   "metadata": {},
   "outputs": [
    {
     "data": {
      "text/plain": [
       "confirmed    0.625\n",
       "canceled     0.375\n",
       "Name: result, dtype: float64"
      ]
     },
     "execution_count": 52,
     "metadata": {},
     "output_type": "execute_result"
    }
   ],
   "source": [
    "data['result'].value_counts(normalize=True)"
   ]
  },
  {
   "cell_type": "code",
   "execution_count": 53,
   "metadata": {},
   "outputs": [
    {
     "data": {
      "text/plain": [
       "8"
      ]
     },
     "execution_count": 53,
     "metadata": {},
     "output_type": "execute_result"
    }
   ],
   "source": [
    "data.shape[0]"
   ]
  },
  {
   "cell_type": "code",
   "execution_count": 54,
   "metadata": {},
   "outputs": [
    {
     "data": {
      "text/plain": [
       "8"
      ]
     },
     "execution_count": 54,
     "metadata": {},
     "output_type": "execute_result"
    }
   ],
   "source": [
    "len(data)"
   ]
  },
  {
   "cell_type": "code",
   "execution_count": 56,
   "metadata": {},
   "outputs": [
    {
     "data": {
      "text/html": [
       "<div>\n",
       "<style scoped>\n",
       "    .dataframe tbody tr th:only-of-type {\n",
       "        vertical-align: middle;\n",
       "    }\n",
       "\n",
       "    .dataframe tbody tr th {\n",
       "        vertical-align: top;\n",
       "    }\n",
       "\n",
       "    .dataframe thead th {\n",
       "        text-align: right;\n",
       "    }\n",
       "</style>\n",
       "<table border=\"1\" class=\"dataframe\">\n",
       "  <thead>\n",
       "    <tr style=\"text-align: right;\">\n",
       "      <th></th>\n",
       "      <th>date</th>\n",
       "      <th>amount</th>\n",
       "      <th>result</th>\n",
       "    </tr>\n",
       "    <tr>\n",
       "      <th>Name</th>\n",
       "      <th></th>\n",
       "      <th></th>\n",
       "      <th></th>\n",
       "    </tr>\n",
       "  </thead>\n",
       "  <tbody>\n",
       "    <tr>\n",
       "      <th>Kang</th>\n",
       "      <td>2017-01-01</td>\n",
       "      <td>500</td>\n",
       "      <td>confirmed</td>\n",
       "    </tr>\n",
       "    <tr>\n",
       "      <th>Kim</th>\n",
       "      <td>2017-01-03</td>\n",
       "      <td>700</td>\n",
       "      <td>confirmed</td>\n",
       "    </tr>\n",
       "    <tr>\n",
       "      <th>Choi</th>\n",
       "      <td>2017-01-03</td>\n",
       "      <td>900</td>\n",
       "      <td>confirmed</td>\n",
       "    </tr>\n",
       "    <tr>\n",
       "      <th>Park</th>\n",
       "      <td>2017-01-05</td>\n",
       "      <td>800</td>\n",
       "      <td>confirmed</td>\n",
       "    </tr>\n",
       "    <tr>\n",
       "      <th>Lee</th>\n",
       "      <td>2017-01-07</td>\n",
       "      <td>500</td>\n",
       "      <td>canceled</td>\n",
       "    </tr>\n",
       "    <tr>\n",
       "      <th>Yoon</th>\n",
       "      <td>2017-01-09</td>\n",
       "      <td>700</td>\n",
       "      <td>confirmed</td>\n",
       "    </tr>\n",
       "    <tr>\n",
       "      <th>Jang</th>\n",
       "      <td>2017-01-09</td>\n",
       "      <td>600</td>\n",
       "      <td>canceled</td>\n",
       "    </tr>\n",
       "    <tr>\n",
       "      <th>Ko</th>\n",
       "      <td>2017-01-10</td>\n",
       "      <td>200</td>\n",
       "      <td>canceled</td>\n",
       "    </tr>\n",
       "  </tbody>\n",
       "</table>\n",
       "</div>"
      ],
      "text/plain": [
       "            date  amount     result\n",
       "Name                               \n",
       "Kang  2017-01-01     500  confirmed\n",
       "Kim   2017-01-03     700  confirmed\n",
       "Choi  2017-01-03     900  confirmed\n",
       "Park  2017-01-05     800  confirmed\n",
       "Lee   2017-01-07     500   canceled\n",
       "Yoon  2017-01-09     700  confirmed\n",
       "Jang  2017-01-09     600   canceled\n",
       "Ko    2017-01-10     200   canceled"
      ]
     },
     "execution_count": 56,
     "metadata": {},
     "output_type": "execute_result"
    }
   ],
   "source": [
    "data['result'].replace('canceled','cancelled')"
   ]
  },
  {
   "cell_type": "code",
   "execution_count": 58,
   "metadata": {},
   "outputs": [
    {
     "data": {
      "text/plain": [
       "Name\n",
       "Kang    donfirmed\n",
       "Kim     donfirmed\n",
       "Choi    donfirmed\n",
       "Park    donfirmed\n",
       "Lee      dandeled\n",
       "Yoon    donfirmed\n",
       "Jang     dandeled\n",
       "Ko       dandeled\n",
       "Name: result, dtype: object"
      ]
     },
     "execution_count": 58,
     "metadata": {},
     "output_type": "execute_result"
    }
   ],
   "source": [
    "data['result'].str.replace('c','d')"
   ]
  },
  {
   "cell_type": "code",
   "execution_count": 59,
   "metadata": {},
   "outputs": [
    {
     "data": {
      "text/plain": [
       "Name\n",
       "Kang    c\n",
       "Kim     c\n",
       "Choi    c\n",
       "Park    c\n",
       "Lee     c\n",
       "Yoon    c\n",
       "Jang    c\n",
       "Ko      c\n",
       "Name: result, dtype: object"
      ]
     },
     "execution_count": 59,
     "metadata": {},
     "output_type": "execute_result"
    }
   ],
   "source": [
    "data['result'].str[0]"
   ]
  },
  {
   "cell_type": "code",
   "execution_count": 60,
   "metadata": {},
   "outputs": [
    {
     "data": {
      "text/plain": [
       "Name\n",
       "Kang   2017-01-01\n",
       "Kim    2017-01-03\n",
       "Choi   2017-01-03\n",
       "Park   2017-01-05\n",
       "Lee    2017-01-07\n",
       "Yoon   2017-01-09\n",
       "Jang   2017-01-09\n",
       "Ko     2017-01-10\n",
       "Name: date, dtype: datetime64[ns]"
      ]
     },
     "execution_count": 60,
     "metadata": {},
     "output_type": "execute_result"
    }
   ],
   "source": [
    "pd.to_datetime(data['date'])"
   ]
  },
  {
   "cell_type": "code",
   "execution_count": 63,
   "metadata": {},
   "outputs": [
    {
     "data": {
      "text/plain": [
       "Name\n",
       "Kang     1\n",
       "Kim      3\n",
       "Choi     3\n",
       "Park     5\n",
       "Lee      7\n",
       "Yoon     9\n",
       "Jang     9\n",
       "Ko      10\n",
       "Name: date, dtype: int64"
      ]
     },
     "execution_count": 63,
     "metadata": {},
     "output_type": "execute_result"
    }
   ],
   "source": [
    "pd.to_datetime(data['date']).dt.day"
   ]
  },
  {
   "cell_type": "markdown",
   "metadata": {},
   "source": [
    "## 색인(indexing)"
   ]
  },
  {
   "cell_type": "code",
   "execution_count": 65,
   "metadata": {},
   "outputs": [
    {
     "data": {
      "text/html": [
       "<div>\n",
       "<style scoped>\n",
       "    .dataframe tbody tr th:only-of-type {\n",
       "        vertical-align: middle;\n",
       "    }\n",
       "\n",
       "    .dataframe tbody tr th {\n",
       "        vertical-align: top;\n",
       "    }\n",
       "\n",
       "    .dataframe thead th {\n",
       "        text-align: right;\n",
       "    }\n",
       "</style>\n",
       "<table border=\"1\" class=\"dataframe\">\n",
       "  <thead>\n",
       "    <tr style=\"text-align: right;\">\n",
       "      <th></th>\n",
       "      <th>date</th>\n",
       "      <th>amount</th>\n",
       "      <th>result</th>\n",
       "    </tr>\n",
       "    <tr>\n",
       "      <th>Name</th>\n",
       "      <th></th>\n",
       "      <th></th>\n",
       "      <th></th>\n",
       "    </tr>\n",
       "  </thead>\n",
       "  <tbody>\n",
       "    <tr>\n",
       "      <th>Kim</th>\n",
       "      <td>2017-01-03</td>\n",
       "      <td>700</td>\n",
       "      <td>confirmed</td>\n",
       "    </tr>\n",
       "    <tr>\n",
       "      <th>Choi</th>\n",
       "      <td>2017-01-03</td>\n",
       "      <td>900</td>\n",
       "      <td>confirmed</td>\n",
       "    </tr>\n",
       "    <tr>\n",
       "      <th>Park</th>\n",
       "      <td>2017-01-05</td>\n",
       "      <td>800</td>\n",
       "      <td>confirmed</td>\n",
       "    </tr>\n",
       "    <tr>\n",
       "      <th>Yoon</th>\n",
       "      <td>2017-01-09</td>\n",
       "      <td>700</td>\n",
       "      <td>confirmed</td>\n",
       "    </tr>\n",
       "    <tr>\n",
       "      <th>Jang</th>\n",
       "      <td>2017-01-09</td>\n",
       "      <td>600</td>\n",
       "      <td>canceled</td>\n",
       "    </tr>\n",
       "  </tbody>\n",
       "</table>\n",
       "</div>"
      ],
      "text/plain": [
       "            date  amount     result\n",
       "Name                               \n",
       "Kim   2017-01-03     700  confirmed\n",
       "Choi  2017-01-03     900  confirmed\n",
       "Park  2017-01-05     800  confirmed\n",
       "Yoon  2017-01-09     700  confirmed\n",
       "Jang  2017-01-09     600   canceled"
      ]
     },
     "execution_count": 65,
     "metadata": {},
     "output_type": "execute_result"
    }
   ],
   "source": [
    "data[data['amount'] > 500]"
   ]
  },
  {
   "cell_type": "code",
   "execution_count": 70,
   "metadata": {},
   "outputs": [
    {
     "data": {
      "text/html": [
       "<div>\n",
       "<style scoped>\n",
       "    .dataframe tbody tr th:only-of-type {\n",
       "        vertical-align: middle;\n",
       "    }\n",
       "\n",
       "    .dataframe tbody tr th {\n",
       "        vertical-align: top;\n",
       "    }\n",
       "\n",
       "    .dataframe thead th {\n",
       "        text-align: right;\n",
       "    }\n",
       "</style>\n",
       "<table border=\"1\" class=\"dataframe\">\n",
       "  <thead>\n",
       "    <tr style=\"text-align: right;\">\n",
       "      <th></th>\n",
       "      <th>date</th>\n",
       "      <th>amount</th>\n",
       "      <th>result</th>\n",
       "    </tr>\n",
       "    <tr>\n",
       "      <th>Name</th>\n",
       "      <th></th>\n",
       "      <th></th>\n",
       "      <th></th>\n",
       "    </tr>\n",
       "  </thead>\n",
       "  <tbody>\n",
       "    <tr>\n",
       "      <th>Kang</th>\n",
       "      <td>2017-01-01</td>\n",
       "      <td>500</td>\n",
       "      <td>confirmed</td>\n",
       "    </tr>\n",
       "    <tr>\n",
       "      <th>Kim</th>\n",
       "      <td>2017-01-03</td>\n",
       "      <td>700</td>\n",
       "      <td>confirmed</td>\n",
       "    </tr>\n",
       "    <tr>\n",
       "      <th>Choi</th>\n",
       "      <td>2017-01-03</td>\n",
       "      <td>900</td>\n",
       "      <td>confirmed</td>\n",
       "    </tr>\n",
       "    <tr>\n",
       "      <th>Park</th>\n",
       "      <td>2017-01-05</td>\n",
       "      <td>800</td>\n",
       "      <td>confirmed</td>\n",
       "    </tr>\n",
       "    <tr>\n",
       "      <th>Yoon</th>\n",
       "      <td>2017-01-09</td>\n",
       "      <td>700</td>\n",
       "      <td>confirmed</td>\n",
       "    </tr>\n",
       "  </tbody>\n",
       "</table>\n",
       "</div>"
      ],
      "text/plain": [
       "            date  amount     result\n",
       "Name                               \n",
       "Kang  2017-01-01     500  confirmed\n",
       "Kim   2017-01-03     700  confirmed\n",
       "Choi  2017-01-03     900  confirmed\n",
       "Park  2017-01-05     800  confirmed\n",
       "Yoon  2017-01-09     700  confirmed"
      ]
     },
     "execution_count": 70,
     "metadata": {},
     "output_type": "execute_result"
    }
   ],
   "source": [
    "data[data['result'] == 'confirmed']"
   ]
  },
  {
   "cell_type": "code",
   "execution_count": null,
   "metadata": {},
   "outputs": [],
   "source": []
  },
  {
   "cell_type": "code",
   "execution_count": 66,
   "metadata": {},
   "outputs": [
    {
     "data": {
      "text/html": [
       "<div>\n",
       "<style scoped>\n",
       "    .dataframe tbody tr th:only-of-type {\n",
       "        vertical-align: middle;\n",
       "    }\n",
       "\n",
       "    .dataframe tbody tr th {\n",
       "        vertical-align: top;\n",
       "    }\n",
       "\n",
       "    .dataframe thead th {\n",
       "        text-align: right;\n",
       "    }\n",
       "</style>\n",
       "<table border=\"1\" class=\"dataframe\">\n",
       "  <thead>\n",
       "    <tr style=\"text-align: right;\">\n",
       "      <th></th>\n",
       "      <th>date</th>\n",
       "      <th>amount</th>\n",
       "      <th>result</th>\n",
       "    </tr>\n",
       "    <tr>\n",
       "      <th>Name</th>\n",
       "      <th></th>\n",
       "      <th></th>\n",
       "      <th></th>\n",
       "    </tr>\n",
       "  </thead>\n",
       "  <tbody>\n",
       "    <tr>\n",
       "      <th>Kang</th>\n",
       "      <td>2017-01-01</td>\n",
       "      <td>500</td>\n",
       "      <td>confirmed</td>\n",
       "    </tr>\n",
       "    <tr>\n",
       "      <th>Kim</th>\n",
       "      <td>2017-01-03</td>\n",
       "      <td>700</td>\n",
       "      <td>confirmed</td>\n",
       "    </tr>\n",
       "    <tr>\n",
       "      <th>Choi</th>\n",
       "      <td>2017-01-03</td>\n",
       "      <td>900</td>\n",
       "      <td>confirmed</td>\n",
       "    </tr>\n",
       "    <tr>\n",
       "      <th>Park</th>\n",
       "      <td>2017-01-05</td>\n",
       "      <td>800</td>\n",
       "      <td>confirmed</td>\n",
       "    </tr>\n",
       "    <tr>\n",
       "      <th>Lee</th>\n",
       "      <td>2017-01-07</td>\n",
       "      <td>500</td>\n",
       "      <td>canceled</td>\n",
       "    </tr>\n",
       "    <tr>\n",
       "      <th>Yoon</th>\n",
       "      <td>2017-01-09</td>\n",
       "      <td>700</td>\n",
       "      <td>confirmed</td>\n",
       "    </tr>\n",
       "    <tr>\n",
       "      <th>Jang</th>\n",
       "      <td>2017-01-09</td>\n",
       "      <td>600</td>\n",
       "      <td>canceled</td>\n",
       "    </tr>\n",
       "  </tbody>\n",
       "</table>\n",
       "</div>"
      ],
      "text/plain": [
       "            date  amount     result\n",
       "Name                               \n",
       "Kang  2017-01-01     500  confirmed\n",
       "Kim   2017-01-03     700  confirmed\n",
       "Choi  2017-01-03     900  confirmed\n",
       "Park  2017-01-05     800  confirmed\n",
       "Lee   2017-01-07     500   canceled\n",
       "Yoon  2017-01-09     700  confirmed\n",
       "Jang  2017-01-09     600   canceled"
      ]
     },
     "execution_count": 66,
     "metadata": {},
     "output_type": "execute_result"
    }
   ],
   "source": [
    "data[data['amount'] > 400]"
   ]
  },
  {
   "cell_type": "code",
   "execution_count": 66,
   "metadata": {},
   "outputs": [
    {
     "data": {
      "text/html": [
       "<div>\n",
       "<style scoped>\n",
       "    .dataframe tbody tr th:only-of-type {\n",
       "        vertical-align: middle;\n",
       "    }\n",
       "\n",
       "    .dataframe tbody tr th {\n",
       "        vertical-align: top;\n",
       "    }\n",
       "\n",
       "    .dataframe thead th {\n",
       "        text-align: right;\n",
       "    }\n",
       "</style>\n",
       "<table border=\"1\" class=\"dataframe\">\n",
       "  <thead>\n",
       "    <tr style=\"text-align: right;\">\n",
       "      <th></th>\n",
       "      <th>date</th>\n",
       "      <th>amount</th>\n",
       "      <th>result</th>\n",
       "    </tr>\n",
       "    <tr>\n",
       "      <th>Name</th>\n",
       "      <th></th>\n",
       "      <th></th>\n",
       "      <th></th>\n",
       "    </tr>\n",
       "  </thead>\n",
       "  <tbody>\n",
       "    <tr>\n",
       "      <th>Kang</th>\n",
       "      <td>2017-01-01</td>\n",
       "      <td>500</td>\n",
       "      <td>confirmed</td>\n",
       "    </tr>\n",
       "    <tr>\n",
       "      <th>Kim</th>\n",
       "      <td>2017-01-03</td>\n",
       "      <td>700</td>\n",
       "      <td>confirmed</td>\n",
       "    </tr>\n",
       "    <tr>\n",
       "      <th>Choi</th>\n",
       "      <td>2017-01-03</td>\n",
       "      <td>900</td>\n",
       "      <td>confirmed</td>\n",
       "    </tr>\n",
       "    <tr>\n",
       "      <th>Park</th>\n",
       "      <td>2017-01-05</td>\n",
       "      <td>800</td>\n",
       "      <td>confirmed</td>\n",
       "    </tr>\n",
       "    <tr>\n",
       "      <th>Lee</th>\n",
       "      <td>2017-01-07</td>\n",
       "      <td>500</td>\n",
       "      <td>canceled</td>\n",
       "    </tr>\n",
       "    <tr>\n",
       "      <th>Yoon</th>\n",
       "      <td>2017-01-09</td>\n",
       "      <td>700</td>\n",
       "      <td>confirmed</td>\n",
       "    </tr>\n",
       "    <tr>\n",
       "      <th>Jang</th>\n",
       "      <td>2017-01-09</td>\n",
       "      <td>600</td>\n",
       "      <td>canceled</td>\n",
       "    </tr>\n",
       "  </tbody>\n",
       "</table>\n",
       "</div>"
      ],
      "text/plain": [
       "            date  amount     result\n",
       "Name                               \n",
       "Kang  2017-01-01     500  confirmed\n",
       "Kim   2017-01-03     700  confirmed\n",
       "Choi  2017-01-03     900  confirmed\n",
       "Park  2017-01-05     800  confirmed\n",
       "Lee   2017-01-07     500   canceled\n",
       "Yoon  2017-01-09     700  confirmed\n",
       "Jang  2017-01-09     600   canceled"
      ]
     },
     "execution_count": 66,
     "metadata": {},
     "output_type": "execute_result"
    }
   ],
   "source": [
    "data[data['amount'] > 400]"
   ]
  },
  {
   "cell_type": "code",
   "execution_count": 78,
   "metadata": {},
   "outputs": [
    {
     "data": {
      "text/html": [
       "<div>\n",
       "<style scoped>\n",
       "    .dataframe tbody tr th:only-of-type {\n",
       "        vertical-align: middle;\n",
       "    }\n",
       "\n",
       "    .dataframe tbody tr th {\n",
       "        vertical-align: top;\n",
       "    }\n",
       "\n",
       "    .dataframe thead th {\n",
       "        text-align: right;\n",
       "    }\n",
       "</style>\n",
       "<table border=\"1\" class=\"dataframe\">\n",
       "  <thead>\n",
       "    <tr style=\"text-align: right;\">\n",
       "      <th></th>\n",
       "      <th>date</th>\n",
       "      <th>amount</th>\n",
       "    </tr>\n",
       "    <tr>\n",
       "      <th>Name</th>\n",
       "      <th></th>\n",
       "      <th></th>\n",
       "    </tr>\n",
       "  </thead>\n",
       "  <tbody>\n",
       "    <tr>\n",
       "      <th>Kim</th>\n",
       "      <td>2017-01-03</td>\n",
       "      <td>700</td>\n",
       "    </tr>\n",
       "    <tr>\n",
       "      <th>Choi</th>\n",
       "      <td>2017-01-03</td>\n",
       "      <td>900</td>\n",
       "    </tr>\n",
       "    <tr>\n",
       "      <th>Park</th>\n",
       "      <td>2017-01-05</td>\n",
       "      <td>800</td>\n",
       "    </tr>\n",
       "    <tr>\n",
       "      <th>Yoon</th>\n",
       "      <td>2017-01-09</td>\n",
       "      <td>700</td>\n",
       "    </tr>\n",
       "  </tbody>\n",
       "</table>\n",
       "</div>"
      ],
      "text/plain": [
       "            date  amount\n",
       "Name                    \n",
       "Kim   2017-01-03     700\n",
       "Choi  2017-01-03     900\n",
       "Park  2017-01-05     800\n",
       "Yoon  2017-01-09     700"
      ]
     },
     "execution_count": 78,
     "metadata": {},
     "output_type": "execute_result"
    }
   ],
   "source": [
    "# data[(data['amount'] > 500) | (data['result'] =='confirmed')]\n",
    "amount_over_500 = (data['amount'] > 500)\n",
    "confirmed = (data['result'] =='confirmed')\n",
    "\n",
    "cols=['date','amount']\n",
    "data.loc[confirmed&amount_over_500, cols]\n",
    "# 행렬동시검색시 무조건 loc "
   ]
  },
  {
   "cell_type": "markdown",
   "metadata": {},
   "source": [
    "## 행열 추가/수정"
   ]
  },
  {
   "cell_type": "code",
   "execution_count": null,
   "metadata": {},
   "outputs": [],
   "source": [
    "열 추가/수정"
   ]
  },
  {
   "cell_type": "code",
   "execution_count": 79,
   "metadata": {},
   "outputs": [
    {
     "data": {
      "text/html": [
       "<div>\n",
       "<style scoped>\n",
       "    .dataframe tbody tr th:only-of-type {\n",
       "        vertical-align: middle;\n",
       "    }\n",
       "\n",
       "    .dataframe tbody tr th {\n",
       "        vertical-align: top;\n",
       "    }\n",
       "\n",
       "    .dataframe thead th {\n",
       "        text-align: right;\n",
       "    }\n",
       "</style>\n",
       "<table border=\"1\" class=\"dataframe\">\n",
       "  <thead>\n",
       "    <tr style=\"text-align: right;\">\n",
       "      <th></th>\n",
       "      <th>date</th>\n",
       "      <th>amount</th>\n",
       "      <th>result</th>\n",
       "      <th>card-holder</th>\n",
       "    </tr>\n",
       "    <tr>\n",
       "      <th>Name</th>\n",
       "      <th></th>\n",
       "      <th></th>\n",
       "      <th></th>\n",
       "      <th></th>\n",
       "    </tr>\n",
       "  </thead>\n",
       "  <tbody>\n",
       "    <tr>\n",
       "      <th>Kang</th>\n",
       "      <td>2017-01-01</td>\n",
       "      <td>500</td>\n",
       "      <td>confirmed</td>\n",
       "      <td>DS Card</td>\n",
       "    </tr>\n",
       "    <tr>\n",
       "      <th>Kim</th>\n",
       "      <td>2017-01-03</td>\n",
       "      <td>700</td>\n",
       "      <td>confirmed</td>\n",
       "      <td>DS Card</td>\n",
       "    </tr>\n",
       "    <tr>\n",
       "      <th>Choi</th>\n",
       "      <td>2017-01-03</td>\n",
       "      <td>900</td>\n",
       "      <td>confirmed</td>\n",
       "      <td>DS Card</td>\n",
       "    </tr>\n",
       "    <tr>\n",
       "      <th>Park</th>\n",
       "      <td>2017-01-05</td>\n",
       "      <td>800</td>\n",
       "      <td>confirmed</td>\n",
       "      <td>DS Card</td>\n",
       "    </tr>\n",
       "    <tr>\n",
       "      <th>Lee</th>\n",
       "      <td>2017-01-07</td>\n",
       "      <td>500</td>\n",
       "      <td>canceled</td>\n",
       "      <td>DS Card</td>\n",
       "    </tr>\n",
       "    <tr>\n",
       "      <th>Yoon</th>\n",
       "      <td>2017-01-09</td>\n",
       "      <td>700</td>\n",
       "      <td>confirmed</td>\n",
       "      <td>DS Card</td>\n",
       "    </tr>\n",
       "    <tr>\n",
       "      <th>Jang</th>\n",
       "      <td>2017-01-09</td>\n",
       "      <td>600</td>\n",
       "      <td>canceled</td>\n",
       "      <td>DS Card</td>\n",
       "    </tr>\n",
       "    <tr>\n",
       "      <th>Ko</th>\n",
       "      <td>2017-01-10</td>\n",
       "      <td>200</td>\n",
       "      <td>canceled</td>\n",
       "      <td>DS Card</td>\n",
       "    </tr>\n",
       "  </tbody>\n",
       "</table>\n",
       "</div>"
      ],
      "text/plain": [
       "            date  amount     result card-holder\n",
       "Name                                           \n",
       "Kang  2017-01-01     500  confirmed     DS Card\n",
       "Kim   2017-01-03     700  confirmed     DS Card\n",
       "Choi  2017-01-03     900  confirmed     DS Card\n",
       "Park  2017-01-05     800  confirmed     DS Card\n",
       "Lee   2017-01-07     500   canceled     DS Card\n",
       "Yoon  2017-01-09     700  confirmed     DS Card\n",
       "Jang  2017-01-09     600   canceled     DS Card\n",
       "Ko    2017-01-10     200   canceled     DS Card"
      ]
     },
     "execution_count": 79,
     "metadata": {},
     "output_type": "execute_result"
    }
   ],
   "source": [
    "data['card-holder'] = 'DS Card'\n",
    "\n",
    "data"
   ]
  },
  {
   "cell_type": "code",
   "execution_count": 80,
   "metadata": {},
   "outputs": [
    {
     "data": {
      "text/html": [
       "<div>\n",
       "<style scoped>\n",
       "    .dataframe tbody tr th:only-of-type {\n",
       "        vertical-align: middle;\n",
       "    }\n",
       "\n",
       "    .dataframe tbody tr th {\n",
       "        vertical-align: top;\n",
       "    }\n",
       "\n",
       "    .dataframe thead th {\n",
       "        text-align: right;\n",
       "    }\n",
       "</style>\n",
       "<table border=\"1\" class=\"dataframe\">\n",
       "  <thead>\n",
       "    <tr style=\"text-align: right;\">\n",
       "      <th></th>\n",
       "      <th>date</th>\n",
       "      <th>amount</th>\n",
       "      <th>result</th>\n",
       "      <th>card-holder</th>\n",
       "      <th>order</th>\n",
       "    </tr>\n",
       "    <tr>\n",
       "      <th>Name</th>\n",
       "      <th></th>\n",
       "      <th></th>\n",
       "      <th></th>\n",
       "      <th></th>\n",
       "      <th></th>\n",
       "    </tr>\n",
       "  </thead>\n",
       "  <tbody>\n",
       "    <tr>\n",
       "      <th>Kang</th>\n",
       "      <td>2017-01-01</td>\n",
       "      <td>500</td>\n",
       "      <td>confirmed</td>\n",
       "      <td>DS Card</td>\n",
       "      <td>1</td>\n",
       "    </tr>\n",
       "    <tr>\n",
       "      <th>Kim</th>\n",
       "      <td>2017-01-03</td>\n",
       "      <td>700</td>\n",
       "      <td>confirmed</td>\n",
       "      <td>DS Card</td>\n",
       "      <td>2</td>\n",
       "    </tr>\n",
       "    <tr>\n",
       "      <th>Choi</th>\n",
       "      <td>2017-01-03</td>\n",
       "      <td>900</td>\n",
       "      <td>confirmed</td>\n",
       "      <td>DS Card</td>\n",
       "      <td>3</td>\n",
       "    </tr>\n",
       "    <tr>\n",
       "      <th>Park</th>\n",
       "      <td>2017-01-05</td>\n",
       "      <td>800</td>\n",
       "      <td>confirmed</td>\n",
       "      <td>DS Card</td>\n",
       "      <td>4</td>\n",
       "    </tr>\n",
       "    <tr>\n",
       "      <th>Lee</th>\n",
       "      <td>2017-01-07</td>\n",
       "      <td>500</td>\n",
       "      <td>canceled</td>\n",
       "      <td>DS Card</td>\n",
       "      <td>5</td>\n",
       "    </tr>\n",
       "    <tr>\n",
       "      <th>Yoon</th>\n",
       "      <td>2017-01-09</td>\n",
       "      <td>700</td>\n",
       "      <td>confirmed</td>\n",
       "      <td>DS Card</td>\n",
       "      <td>6</td>\n",
       "    </tr>\n",
       "    <tr>\n",
       "      <th>Jang</th>\n",
       "      <td>2017-01-09</td>\n",
       "      <td>600</td>\n",
       "      <td>canceled</td>\n",
       "      <td>DS Card</td>\n",
       "      <td>7</td>\n",
       "    </tr>\n",
       "    <tr>\n",
       "      <th>Ko</th>\n",
       "      <td>2017-01-10</td>\n",
       "      <td>200</td>\n",
       "      <td>canceled</td>\n",
       "      <td>DS Card</td>\n",
       "      <td>8</td>\n",
       "    </tr>\n",
       "  </tbody>\n",
       "</table>\n",
       "</div>"
      ],
      "text/plain": [
       "            date  amount     result card-holder  order\n",
       "Name                                                  \n",
       "Kang  2017-01-01     500  confirmed     DS Card      1\n",
       "Kim   2017-01-03     700  confirmed     DS Card      2\n",
       "Choi  2017-01-03     900  confirmed     DS Card      3\n",
       "Park  2017-01-05     800  confirmed     DS Card      4\n",
       "Lee   2017-01-07     500   canceled     DS Card      5\n",
       "Yoon  2017-01-09     700  confirmed     DS Card      6\n",
       "Jang  2017-01-09     600   canceled     DS Card      7\n",
       "Ko    2017-01-10     200   canceled     DS Card      8"
      ]
     },
     "execution_count": 80,
     "metadata": {},
     "output_type": "execute_result"
    }
   ],
   "source": [
    "data['order']= [1,2,3,4,5,6,7,8]\n",
    "\n",
    "data"
   ]
  },
  {
   "cell_type": "code",
   "execution_count": 83,
   "metadata": {},
   "outputs": [
    {
     "data": {
      "text/html": [
       "<div>\n",
       "<style scoped>\n",
       "    .dataframe tbody tr th:only-of-type {\n",
       "        vertical-align: middle;\n",
       "    }\n",
       "\n",
       "    .dataframe tbody tr th {\n",
       "        vertical-align: top;\n",
       "    }\n",
       "\n",
       "    .dataframe thead th {\n",
       "        text-align: right;\n",
       "    }\n",
       "</style>\n",
       "<table border=\"1\" class=\"dataframe\">\n",
       "  <thead>\n",
       "    <tr style=\"text-align: right;\">\n",
       "      <th></th>\n",
       "      <th>amount</th>\n",
       "      <th>VIP</th>\n",
       "    </tr>\n",
       "    <tr>\n",
       "      <th>Name</th>\n",
       "      <th></th>\n",
       "      <th></th>\n",
       "    </tr>\n",
       "  </thead>\n",
       "  <tbody>\n",
       "    <tr>\n",
       "      <th>Kang</th>\n",
       "      <td>500</td>\n",
       "      <td>False</td>\n",
       "    </tr>\n",
       "    <tr>\n",
       "      <th>Kim</th>\n",
       "      <td>700</td>\n",
       "      <td>True</td>\n",
       "    </tr>\n",
       "    <tr>\n",
       "      <th>Choi</th>\n",
       "      <td>900</td>\n",
       "      <td>True</td>\n",
       "    </tr>\n",
       "    <tr>\n",
       "      <th>Park</th>\n",
       "      <td>800</td>\n",
       "      <td>True</td>\n",
       "    </tr>\n",
       "    <tr>\n",
       "      <th>Lee</th>\n",
       "      <td>500</td>\n",
       "      <td>False</td>\n",
       "    </tr>\n",
       "    <tr>\n",
       "      <th>Yoon</th>\n",
       "      <td>700</td>\n",
       "      <td>True</td>\n",
       "    </tr>\n",
       "    <tr>\n",
       "      <th>Jang</th>\n",
       "      <td>600</td>\n",
       "      <td>True</td>\n",
       "    </tr>\n",
       "    <tr>\n",
       "      <th>Ko</th>\n",
       "      <td>200</td>\n",
       "      <td>False</td>\n",
       "    </tr>\n",
       "  </tbody>\n",
       "</table>\n",
       "</div>"
      ],
      "text/plain": [
       "      amount    VIP\n",
       "Name               \n",
       "Kang     500  False\n",
       "Kim      700   True\n",
       "Choi     900   True\n",
       "Park     800   True\n",
       "Lee      500  False\n",
       "Yoon     700   True\n",
       "Jang     600   True\n",
       "Ko       200  False"
      ]
     },
     "execution_count": 83,
     "metadata": {},
     "output_type": "execute_result"
    }
   ],
   "source": [
    "data['VIP']=data['amount'] > 500\n",
    "cols = ['amount','VIP']\n",
    "data[cols]"
   ]
  },
  {
   "cell_type": "code",
   "execution_count": 90,
   "metadata": {},
   "outputs": [
    {
     "data": {
      "text/html": [
       "<div>\n",
       "<style scoped>\n",
       "    .dataframe tbody tr th:only-of-type {\n",
       "        vertical-align: middle;\n",
       "    }\n",
       "\n",
       "    .dataframe tbody tr th {\n",
       "        vertical-align: top;\n",
       "    }\n",
       "\n",
       "    .dataframe thead th {\n",
       "        text-align: right;\n",
       "    }\n",
       "</style>\n",
       "<table border=\"1\" class=\"dataframe\">\n",
       "  <thead>\n",
       "    <tr style=\"text-align: right;\">\n",
       "      <th></th>\n",
       "      <th>amount</th>\n",
       "      <th>level</th>\n",
       "    </tr>\n",
       "    <tr>\n",
       "      <th>Name</th>\n",
       "      <th></th>\n",
       "      <th></th>\n",
       "    </tr>\n",
       "  </thead>\n",
       "  <tbody>\n",
       "    <tr>\n",
       "      <th>Kang</th>\n",
       "      <td>500</td>\n",
       "      <td>non-VIP</td>\n",
       "    </tr>\n",
       "    <tr>\n",
       "      <th>Kim</th>\n",
       "      <td>700</td>\n",
       "      <td>VIP</td>\n",
       "    </tr>\n",
       "    <tr>\n",
       "      <th>Choi</th>\n",
       "      <td>900</td>\n",
       "      <td>VIP</td>\n",
       "    </tr>\n",
       "    <tr>\n",
       "      <th>Park</th>\n",
       "      <td>800</td>\n",
       "      <td>VIP</td>\n",
       "    </tr>\n",
       "    <tr>\n",
       "      <th>Lee</th>\n",
       "      <td>500</td>\n",
       "      <td>non-VIP</td>\n",
       "    </tr>\n",
       "  </tbody>\n",
       "</table>\n",
       "</div>"
      ],
      "text/plain": [
       "      amount    level\n",
       "Name                 \n",
       "Kang     500  non-VIP\n",
       "Kim      700      VIP\n",
       "Choi     900      VIP\n",
       "Park     800      VIP\n",
       "Lee      500  non-VIP"
      ]
     },
     "execution_count": 90,
     "metadata": {},
     "output_type": "execute_result"
    }
   ],
   "source": [
    "amount_over_500 = data['amount'] > 500\n",
    "\n",
    "data.loc[amount_over_500, 'level'] = 'VIP'\n",
    "data.loc[~amount_over_500, 'level'] = 'non-VIP'\n",
    "\n",
    "cols = ['amount','level']\n",
    "data[cols].head()"
   ]
  },
  {
   "cell_type": "markdown",
   "metadata": {},
   "source": [
    "행 추가/수정"
   ]
  },
  {
   "cell_type": "code",
   "execution_count": 93,
   "metadata": {},
   "outputs": [
    {
     "data": {
      "text/html": [
       "<div>\n",
       "<style scoped>\n",
       "    .dataframe tbody tr th:only-of-type {\n",
       "        vertical-align: middle;\n",
       "    }\n",
       "\n",
       "    .dataframe tbody tr th {\n",
       "        vertical-align: top;\n",
       "    }\n",
       "\n",
       "    .dataframe thead th {\n",
       "        text-align: right;\n",
       "    }\n",
       "</style>\n",
       "<table border=\"1\" class=\"dataframe\">\n",
       "  <thead>\n",
       "    <tr style=\"text-align: right;\">\n",
       "      <th></th>\n",
       "      <th>date</th>\n",
       "      <th>amount</th>\n",
       "      <th>result</th>\n",
       "      <th>card-holder</th>\n",
       "      <th>order</th>\n",
       "      <th>VIP</th>\n",
       "      <th>level</th>\n",
       "    </tr>\n",
       "    <tr>\n",
       "      <th>Name</th>\n",
       "      <th></th>\n",
       "      <th></th>\n",
       "      <th></th>\n",
       "      <th></th>\n",
       "      <th></th>\n",
       "      <th></th>\n",
       "      <th></th>\n",
       "    </tr>\n",
       "  </thead>\n",
       "  <tbody>\n",
       "    <tr>\n",
       "      <th>Ko</th>\n",
       "      <td>2017-01-10</td>\n",
       "      <td>200</td>\n",
       "      <td>canceled</td>\n",
       "      <td>DS Card</td>\n",
       "      <td>8</td>\n",
       "      <td>0</td>\n",
       "      <td>non-VIP</td>\n",
       "    </tr>\n",
       "    <tr>\n",
       "      <th>Han</th>\n",
       "      <td>1</td>\n",
       "      <td>2</td>\n",
       "      <td>3</td>\n",
       "      <td>4</td>\n",
       "      <td>5</td>\n",
       "      <td>6</td>\n",
       "      <td>7</td>\n",
       "    </tr>\n",
       "  </tbody>\n",
       "</table>\n",
       "</div>"
      ],
      "text/plain": [
       "            date  amount    result card-holder  order  VIP    level\n",
       "Name                                                               \n",
       "Ko    2017-01-10     200  canceled     DS Card      8    0  non-VIP\n",
       "Han            1       2         3           4      5    6        7"
      ]
     },
     "execution_count": 93,
     "metadata": {},
     "output_type": "execute_result"
    }
   ],
   "source": [
    "data.loc['Han'] = [1,2,3,4,5,6,7]\n",
    "data.tail(2)"
   ]
  },
  {
   "cell_type": "markdown",
   "metadata": {},
   "source": [
    "## 행열 삭제 "
   ]
  },
  {
   "cell_type": "code",
   "execution_count": 97,
   "metadata": {},
   "outputs": [
    {
     "data": {
      "text/html": [
       "<div>\n",
       "<style scoped>\n",
       "    .dataframe tbody tr th:only-of-type {\n",
       "        vertical-align: middle;\n",
       "    }\n",
       "\n",
       "    .dataframe tbody tr th {\n",
       "        vertical-align: top;\n",
       "    }\n",
       "\n",
       "    .dataframe thead th {\n",
       "        text-align: right;\n",
       "    }\n",
       "</style>\n",
       "<table border=\"1\" class=\"dataframe\">\n",
       "  <thead>\n",
       "    <tr style=\"text-align: right;\">\n",
       "      <th></th>\n",
       "      <th>date</th>\n",
       "      <th>card-holder</th>\n",
       "      <th>order</th>\n",
       "      <th>VIP</th>\n",
       "      <th>level</th>\n",
       "    </tr>\n",
       "    <tr>\n",
       "      <th>Name</th>\n",
       "      <th></th>\n",
       "      <th></th>\n",
       "      <th></th>\n",
       "      <th></th>\n",
       "      <th></th>\n",
       "    </tr>\n",
       "  </thead>\n",
       "  <tbody>\n",
       "    <tr>\n",
       "      <th>Choi</th>\n",
       "      <td>2017-01-03</td>\n",
       "      <td>DS Card</td>\n",
       "      <td>3</td>\n",
       "      <td>1</td>\n",
       "      <td>VIP</td>\n",
       "    </tr>\n",
       "    <tr>\n",
       "      <th>Park</th>\n",
       "      <td>2017-01-05</td>\n",
       "      <td>DS Card</td>\n",
       "      <td>4</td>\n",
       "      <td>1</td>\n",
       "      <td>VIP</td>\n",
       "    </tr>\n",
       "    <tr>\n",
       "      <th>Lee</th>\n",
       "      <td>2017-01-07</td>\n",
       "      <td>DS Card</td>\n",
       "      <td>5</td>\n",
       "      <td>0</td>\n",
       "      <td>non-VIP</td>\n",
       "    </tr>\n",
       "    <tr>\n",
       "      <th>Yoon</th>\n",
       "      <td>2017-01-09</td>\n",
       "      <td>DS Card</td>\n",
       "      <td>6</td>\n",
       "      <td>1</td>\n",
       "      <td>VIP</td>\n",
       "    </tr>\n",
       "    <tr>\n",
       "      <th>Jang</th>\n",
       "      <td>2017-01-09</td>\n",
       "      <td>DS Card</td>\n",
       "      <td>7</td>\n",
       "      <td>1</td>\n",
       "      <td>VIP</td>\n",
       "    </tr>\n",
       "    <tr>\n",
       "      <th>Ko</th>\n",
       "      <td>2017-01-10</td>\n",
       "      <td>DS Card</td>\n",
       "      <td>8</td>\n",
       "      <td>0</td>\n",
       "      <td>non-VIP</td>\n",
       "    </tr>\n",
       "    <tr>\n",
       "      <th>Han</th>\n",
       "      <td>1</td>\n",
       "      <td>4</td>\n",
       "      <td>5</td>\n",
       "      <td>6</td>\n",
       "      <td>7</td>\n",
       "    </tr>\n",
       "  </tbody>\n",
       "</table>\n",
       "</div>"
      ],
      "text/plain": [
       "            date card-holder  order  VIP    level\n",
       "Name                                             \n",
       "Choi  2017-01-03     DS Card      3    1      VIP\n",
       "Park  2017-01-05     DS Card      4    1      VIP\n",
       "Lee   2017-01-07     DS Card      5    0  non-VIP\n",
       "Yoon  2017-01-09     DS Card      6    1      VIP\n",
       "Jang  2017-01-09     DS Card      7    1      VIP\n",
       "Ko    2017-01-10     DS Card      8    0  non-VIP\n",
       "Han            1           4      5    6        7"
      ]
     },
     "execution_count": 97,
     "metadata": {},
     "output_type": "execute_result"
    }
   ],
   "source": [
    "data.drop(columns=['amount','result'], index=[\"Kang\",\"Kim\"])"
   ]
  },
  {
   "cell_type": "markdown",
   "metadata": {},
   "source": [
    "## Apply "
   ]
  },
  {
   "cell_type": "code",
   "execution_count": 99,
   "metadata": {},
   "outputs": [],
   "source": [
    "def add(a,b):\n",
    "    return a + b"
   ]
  },
  {
   "cell_type": "code",
   "execution_count": 100,
   "metadata": {},
   "outputs": [
    {
     "data": {
      "text/plain": [
       "3"
      ]
     },
     "execution_count": 100,
     "metadata": {},
     "output_type": "execute_result"
    }
   ],
   "source": [
    "add(1,2)"
   ]
  },
  {
   "cell_type": "code",
   "execution_count": 101,
   "metadata": {},
   "outputs": [],
   "source": [
    "def is_vip(amount):\n",
    "    return amount > 500"
   ]
  },
  {
   "cell_type": "code",
   "execution_count": 104,
   "metadata": {},
   "outputs": [
    {
     "data": {
      "text/plain": [
       "Name\n",
       "Kang    False\n",
       "Kim      True\n",
       "Choi     True\n",
       "Park     True\n",
       "Lee     False\n",
       "Yoon     True\n",
       "Jang     True\n",
       "Ko      False\n",
       "Han     False\n",
       "Name: amount, dtype: bool"
      ]
     },
     "execution_count": 104,
     "metadata": {},
     "output_type": "execute_result"
    }
   ],
   "source": [
    "data['amount'].apply(is_vip)"
   ]
  },
  {
   "cell_type": "code",
   "execution_count": 105,
   "metadata": {},
   "outputs": [
    {
     "data": {
      "text/plain": [
       "Name\n",
       "Kang    False\n",
       "Kim      True\n",
       "Choi     True\n",
       "Park     True\n",
       "Lee     False\n",
       "Yoon     True\n",
       "Jang     True\n",
       "Ko      False\n",
       "Han     False\n",
       "Name: amount, dtype: bool"
      ]
     },
     "execution_count": 105,
     "metadata": {},
     "output_type": "execute_result"
    }
   ],
   "source": [
    "is_vip(data['amount'])"
   ]
  },
  {
   "cell_type": "code",
   "execution_count": 106,
   "metadata": {},
   "outputs": [],
   "source": [
    "def is_vip(row):\n",
    "    return row['amount'] > 500"
   ]
  },
  {
   "cell_type": "code",
   "execution_count": 108,
   "metadata": {},
   "outputs": [
    {
     "data": {
      "text/plain": [
       "Name\n",
       "Kang    False\n",
       "Kim      True\n",
       "Choi     True\n",
       "Park     True\n",
       "Lee     False\n",
       "Yoon     True\n",
       "Jang     True\n",
       "Ko      False\n",
       "Han     False\n",
       "dtype: bool"
      ]
     },
     "execution_count": 108,
     "metadata": {},
     "output_type": "execute_result"
    }
   ],
   "source": [
    "data.apply(is_vip, axis=1)"
   ]
  },
  {
   "cell_type": "markdown",
   "metadata": {},
   "source": [
    "## 크몽"
   ]
  },
  {
   "cell_type": "code",
   "execution_count": 110,
   "metadata": {},
   "outputs": [
    {
     "name": "stdout",
     "output_type": "stream",
     "text": [
      "(434244, 19)\n"
     ]
    },
    {
     "data": {
      "text/html": [
       "<div>\n",
       "<style scoped>\n",
       "    .dataframe tbody tr th:only-of-type {\n",
       "        vertical-align: middle;\n",
       "    }\n",
       "\n",
       "    .dataframe tbody tr th {\n",
       "        vertical-align: top;\n",
       "    }\n",
       "\n",
       "    .dataframe thead th {\n",
       "        text-align: right;\n",
       "    }\n",
       "</style>\n",
       "<table border=\"1\" class=\"dataframe\">\n",
       "  <thead>\n",
       "    <tr style=\"text-align: right;\">\n",
       "      <th></th>\n",
       "      <th>eventcategory</th>\n",
       "      <th>isfirstactivity</th>\n",
       "      <th>apppackagename</th>\n",
       "      <th>appversion</th>\n",
       "      <th>devicetype</th>\n",
       "      <th>devicemanufacturer</th>\n",
       "      <th>osversion</th>\n",
       "      <th>canonicaldeviceuuid</th>\n",
       "      <th>sourcetype</th>\n",
       "      <th>channel</th>\n",
       "      <th>params_campaign</th>\n",
       "      <th>params_medium</th>\n",
       "      <th>params_term</th>\n",
       "      <th>inappeventcategory</th>\n",
       "      <th>inappeventlabel</th>\n",
       "      <th>eventdatetime</th>\n",
       "      <th>rowuuid</th>\n",
       "      <th>isfirstgoalactivity</th>\n",
       "      <th>event_rank</th>\n",
       "    </tr>\n",
       "  </thead>\n",
       "  <tbody>\n",
       "    <tr>\n",
       "      <th>0</th>\n",
       "      <td>goal</td>\n",
       "      <td>False</td>\n",
       "      <td>com.kmong.iOS</td>\n",
       "      <td>4.0.4</td>\n",
       "      <td>iPhone</td>\n",
       "      <td>Apple</td>\n",
       "      <td>iOS11.4.1</td>\n",
       "      <td>F36FAA62-ADAC-4AA5-9B00-1FD6CB7EE957</td>\n",
       "      <td>unattributed</td>\n",
       "      <td>unattributed</td>\n",
       "      <td>NaN</td>\n",
       "      <td>NaN</td>\n",
       "      <td>NaN</td>\n",
       "      <td>home.view</td>\n",
       "      <td>NaN</td>\n",
       "      <td>2018-09-28T00:00:00+09:00</td>\n",
       "      <td>fd2a188c-bc9b-4702-9c47-b546b2614817</td>\n",
       "      <td>False</td>\n",
       "      <td>True</td>\n",
       "    </tr>\n",
       "    <tr>\n",
       "      <th>1</th>\n",
       "      <td>goal</td>\n",
       "      <td>False</td>\n",
       "      <td>com.kmong.kmong</td>\n",
       "      <td>3.3.5</td>\n",
       "      <td>SM-N935S</td>\n",
       "      <td>samsung</td>\n",
       "      <td>Android7.0</td>\n",
       "      <td>8a871e50-0717-4aed-9bad-04ac3c3793be</td>\n",
       "      <td>unattributed</td>\n",
       "      <td>unattributed</td>\n",
       "      <td>NaN</td>\n",
       "      <td>NaN</td>\n",
       "      <td>NaN</td>\n",
       "      <td>gig_detail.view</td>\n",
       "      <td>41201.0</td>\n",
       "      <td>2018-09-28T00:00:00+09:00</td>\n",
       "      <td>e62dccef-dd70-4415-8a33-c8324ddaed38</td>\n",
       "      <td>False</td>\n",
       "      <td>True</td>\n",
       "    </tr>\n",
       "    <tr>\n",
       "      <th>2</th>\n",
       "      <td>goal</td>\n",
       "      <td>False</td>\n",
       "      <td>com.kmong.iOS</td>\n",
       "      <td>4.0.4</td>\n",
       "      <td>iPhone</td>\n",
       "      <td>Apple</td>\n",
       "      <td>iOS12.0</td>\n",
       "      <td>A9E5778A-8F3D-4597-9718-74BF953A9F64</td>\n",
       "      <td>unattributed</td>\n",
       "      <td>unattributed</td>\n",
       "      <td>NaN</td>\n",
       "      <td>NaN</td>\n",
       "      <td>NaN</td>\n",
       "      <td>inbox_detail.view</td>\n",
       "      <td>NaN</td>\n",
       "      <td>2018-09-28T00:00:00+09:00</td>\n",
       "      <td>14eb3197-db83-493a-b7be-83582960c40b</td>\n",
       "      <td>False</td>\n",
       "      <td>True</td>\n",
       "    </tr>\n",
       "    <tr>\n",
       "      <th>3</th>\n",
       "      <td>foreground</td>\n",
       "      <td>NaN</td>\n",
       "      <td>com.kmong.iOS</td>\n",
       "      <td>4.0.4</td>\n",
       "      <td>iPhone</td>\n",
       "      <td>Apple</td>\n",
       "      <td>iOS11.4.1</td>\n",
       "      <td>168761CB-CB67-4592-867D-52780D651297</td>\n",
       "      <td>NaN</td>\n",
       "      <td>NaN</td>\n",
       "      <td>NaN</td>\n",
       "      <td>NaN</td>\n",
       "      <td>NaN</td>\n",
       "      <td>NaN</td>\n",
       "      <td>NaN</td>\n",
       "      <td>2018-09-28T00:00:01+09:00</td>\n",
       "      <td>f9bb91af-248b-44dc-9f5c-1c00b37ea97b</td>\n",
       "      <td>NaN</td>\n",
       "      <td>True</td>\n",
       "    </tr>\n",
       "    <tr>\n",
       "      <th>4</th>\n",
       "      <td>goal</td>\n",
       "      <td>False</td>\n",
       "      <td>com.kmong.iOS</td>\n",
       "      <td>4.0.4</td>\n",
       "      <td>iPhone</td>\n",
       "      <td>Apple</td>\n",
       "      <td>iOS11.4.1</td>\n",
       "      <td>ACABB7C0-4C76-413A-B314-E5D6DA0D0E5D</td>\n",
       "      <td>viral</td>\n",
       "      <td>WEB</td>\n",
       "      <td>NaN</td>\n",
       "      <td>NaN</td>\n",
       "      <td>NaN</td>\n",
       "      <td>buyer_order_track.view</td>\n",
       "      <td>NaN</td>\n",
       "      <td>2018-09-28T00:00:02+09:00</td>\n",
       "      <td>236e9946-7801-4898-b609-06c8ab1139dc</td>\n",
       "      <td>False</td>\n",
       "      <td>True</td>\n",
       "    </tr>\n",
       "    <tr>\n",
       "      <th>5</th>\n",
       "      <td>goal</td>\n",
       "      <td>False</td>\n",
       "      <td>com.kmong.kmong</td>\n",
       "      <td>3.3.5</td>\n",
       "      <td>SM-G955N</td>\n",
       "      <td>samsung</td>\n",
       "      <td>Android8.0.0</td>\n",
       "      <td>6d1ea29b-5d5d-4c33-b2cf-7c68b41ce638</td>\n",
       "      <td>unattributed</td>\n",
       "      <td>unattributed</td>\n",
       "      <td>NaN</td>\n",
       "      <td>NaN</td>\n",
       "      <td>NaN</td>\n",
       "      <td>home.view</td>\n",
       "      <td>NaN</td>\n",
       "      <td>2018-09-28T00:00:02+09:00</td>\n",
       "      <td>db8ce65f-3707-4c1b-8361-51bcb9d4ecd9</td>\n",
       "      <td>False</td>\n",
       "      <td>True</td>\n",
       "    </tr>\n",
       "  </tbody>\n",
       "</table>\n",
       "</div>"
      ],
      "text/plain": [
       "  eventcategory isfirstactivity   apppackagename appversion devicetype  \\\n",
       "0          goal           False    com.kmong.iOS      4.0.4     iPhone   \n",
       "1          goal           False  com.kmong.kmong      3.3.5   SM-N935S   \n",
       "2          goal           False    com.kmong.iOS      4.0.4     iPhone   \n",
       "3    foreground             NaN    com.kmong.iOS      4.0.4     iPhone   \n",
       "4          goal           False    com.kmong.iOS      4.0.4     iPhone   \n",
       "5          goal           False  com.kmong.kmong      3.3.5   SM-G955N   \n",
       "\n",
       "  devicemanufacturer     osversion                   canonicaldeviceuuid  \\\n",
       "0              Apple     iOS11.4.1  F36FAA62-ADAC-4AA5-9B00-1FD6CB7EE957   \n",
       "1            samsung    Android7.0  8a871e50-0717-4aed-9bad-04ac3c3793be   \n",
       "2              Apple       iOS12.0  A9E5778A-8F3D-4597-9718-74BF953A9F64   \n",
       "3              Apple     iOS11.4.1  168761CB-CB67-4592-867D-52780D651297   \n",
       "4              Apple     iOS11.4.1  ACABB7C0-4C76-413A-B314-E5D6DA0D0E5D   \n",
       "5            samsung  Android8.0.0  6d1ea29b-5d5d-4c33-b2cf-7c68b41ce638   \n",
       "\n",
       "     sourcetype       channel params_campaign params_medium params_term  \\\n",
       "0  unattributed  unattributed             NaN           NaN         NaN   \n",
       "1  unattributed  unattributed             NaN           NaN         NaN   \n",
       "2  unattributed  unattributed             NaN           NaN         NaN   \n",
       "3           NaN           NaN             NaN           NaN         NaN   \n",
       "4         viral           WEB             NaN           NaN         NaN   \n",
       "5  unattributed  unattributed             NaN           NaN         NaN   \n",
       "\n",
       "       inappeventcategory  inappeventlabel              eventdatetime  \\\n",
       "0               home.view              NaN  2018-09-28T00:00:00+09:00   \n",
       "1         gig_detail.view          41201.0  2018-09-28T00:00:00+09:00   \n",
       "2       inbox_detail.view              NaN  2018-09-28T00:00:00+09:00   \n",
       "3                     NaN              NaN  2018-09-28T00:00:01+09:00   \n",
       "4  buyer_order_track.view              NaN  2018-09-28T00:00:02+09:00   \n",
       "5               home.view              NaN  2018-09-28T00:00:02+09:00   \n",
       "\n",
       "                                rowuuid isfirstgoalactivity  event_rank  \n",
       "0  fd2a188c-bc9b-4702-9c47-b546b2614817               False        True  \n",
       "1  e62dccef-dd70-4415-8a33-c8324ddaed38               False        True  \n",
       "2  14eb3197-db83-493a-b7be-83582960c40b               False        True  \n",
       "3  f9bb91af-248b-44dc-9f5c-1c00b37ea97b                 NaN        True  \n",
       "4  236e9946-7801-4898-b609-06c8ab1139dc               False        True  \n",
       "5  db8ce65f-3707-4c1b-8361-51bcb9d4ecd9               False        True  "
      ]
     },
     "execution_count": 110,
     "metadata": {},
     "output_type": "execute_result"
    }
   ],
   "source": [
    "pd.options.display.max_columns = 100\n",
    "raw_log = pd.read_csv(\"data/kmong-conversion.csv\")\n",
    "print(raw_log.shape)\n",
    "raw_log.head(6)"
   ]
  },
  {
   "cell_type": "code",
   "execution_count": null,
   "metadata": {},
   "outputs": [],
   "source": []
  },
  {
   "cell_type": "code",
   "execution_count": null,
   "metadata": {},
   "outputs": [],
   "source": []
  },
  {
   "cell_type": "code",
   "execution_count": null,
   "metadata": {},
   "outputs": [],
   "source": []
  },
  {
   "cell_type": "code",
   "execution_count": null,
   "metadata": {},
   "outputs": [],
   "source": []
  },
  {
   "cell_type": "code",
   "execution_count": null,
   "metadata": {},
   "outputs": [],
   "source": []
  },
  {
   "cell_type": "code",
   "execution_count": null,
   "metadata": {},
   "outputs": [],
   "source": []
  },
  {
   "cell_type": "code",
   "execution_count": null,
   "metadata": {},
   "outputs": [],
   "source": []
  },
  {
   "cell_type": "code",
   "execution_count": null,
   "metadata": {},
   "outputs": [],
   "source": []
  },
  {
   "cell_type": "code",
   "execution_count": null,
   "metadata": {},
   "outputs": [],
   "source": []
  },
  {
   "cell_type": "code",
   "execution_count": null,
   "metadata": {},
   "outputs": [],
   "source": []
  },
  {
   "cell_type": "code",
   "execution_count": null,
   "metadata": {},
   "outputs": [],
   "source": []
  },
  {
   "cell_type": "code",
   "execution_count": null,
   "metadata": {},
   "outputs": [],
   "source": []
  },
  {
   "cell_type": "code",
   "execution_count": null,
   "metadata": {},
   "outputs": [],
   "source": []
  }
 ],
 "metadata": {
  "kernelspec": {
   "display_name": "Python 3",
   "language": "python",
   "name": "python3"
  },
  "language_info": {
   "codemirror_mode": {
    "name": "ipython",
    "version": 3
   },
   "file_extension": ".py",
   "mimetype": "text/x-python",
   "name": "python",
   "nbconvert_exporter": "python",
   "pygments_lexer": "ipython3",
   "version": "3.8.3"
  }
 },
 "nbformat": 4,
 "nbformat_minor": 4
}
